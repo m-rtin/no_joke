{
 "cells": [
  {
   "cell_type": "markdown",
   "metadata": {},
   "source": [
    "# No joke"
   ]
  },
  {
   "cell_type": "code",
   "execution_count": 1,
   "metadata": {},
   "outputs": [
    {
     "name": "stderr",
     "output_type": "stream",
     "text": [
      "Using TensorFlow backend.\n"
     ]
    }
   ],
   "source": [
    "import pickle\n",
    "\n",
    "import pandas as pd\n",
    "import numpy as np\n",
    "import matplotlib.pyplot as plt\n",
    "from keras.preprocessing.text import Tokenizer\n",
    "from keras.preprocessing.sequence import pad_sequences\n",
    "from keras.models import Sequential\n",
    "from keras.layers import Embedding, Flatten, Dense, Dropout\n",
    "from keras.optimizers import RMSprop"
   ]
  },
  {
   "cell_type": "markdown",
   "metadata": {},
   "source": [
    "## Settings"
   ]
  },
  {
   "cell_type": "code",
   "execution_count": 2,
   "metadata": {},
   "outputs": [],
   "source": [
    "MAX_LEN = 50\n",
    "MAX_WORDS = 10000\n",
    "EMBEDDING_DIM = 100"
   ]
  },
  {
   "cell_type": "markdown",
   "metadata": {},
   "source": [
    "## Get the data"
   ]
  },
  {
   "cell_type": "code",
   "execution_count": 3,
   "metadata": {},
   "outputs": [],
   "source": [
    "joke_sentences = []\n",
    "\n",
    "with open(\"joke_sentences.txt\", \"r\") as csv_file:\n",
    "    for row in csv_file:\n",
    "        joke_sentences.append(row)"
   ]
  },
  {
   "cell_type": "code",
   "execution_count": 4,
   "metadata": {},
   "outputs": [
    {
     "data": {
      "text/plain": [
       "19860"
      ]
     },
     "execution_count": 4,
     "metadata": {},
     "output_type": "execute_result"
    }
   ],
   "source": [
    "len(joke_sentences)"
   ]
  },
  {
   "cell_type": "code",
   "execution_count": 5,
   "metadata": {
    "scrolled": false
   },
   "outputs": [
    {
     "data": {
      "text/plain": [
       "'Der Lehrer fragt Fritzchen: „Wenn du 5€ vor dir liegen hast, und ich dir 2€ davon wegnehme, was gibt das dann?“ Fritzchen: „Prügel!“ \\n'"
      ]
     },
     "execution_count": 5,
     "metadata": {},
     "output_type": "execute_result"
    }
   ],
   "source": [
    "joke_sentences[0]"
   ]
  },
  {
   "cell_type": "code",
   "execution_count": 6,
   "metadata": {},
   "outputs": [],
   "source": [
    "no_joke_sentences = []\n",
    "\n",
    "with open(\"no_joke_sentences.txt\", \"r\") as csv_file:\n",
    "    for row in csv_file:\n",
    "        no_joke_sentences.append(row)"
   ]
  },
  {
   "cell_type": "code",
   "execution_count": 7,
   "metadata": {},
   "outputs": [
    {
     "data": {
      "text/plain": [
       "999926"
      ]
     },
     "execution_count": 7,
     "metadata": {},
     "output_type": "execute_result"
    }
   ],
   "source": [
    "len(no_joke_sentences)"
   ]
  },
  {
   "cell_type": "code",
   "execution_count": 8,
   "metadata": {},
   "outputs": [
    {
     "data": {
      "text/plain": [
       "'2\\t000 Besucher werden pro Jahr im Klimahaus erwartet.\\n'"
      ]
     },
     "execution_count": 8,
     "metadata": {},
     "output_type": "execute_result"
    }
   ],
   "source": [
    "no_joke_sentences[1]"
   ]
  },
  {
   "cell_type": "markdown",
   "metadata": {},
   "source": [
    "## Prepare the data"
   ]
  },
  {
   "cell_type": "code",
   "execution_count": 9,
   "metadata": {},
   "outputs": [],
   "source": [
    "def replace_all(text, dic):\n",
    "    for i, j in dic.items():\n",
    "        text = text.replace(i, j)\n",
    "    return text\n",
    "\n",
    "replacing_dict = {\n",
    "    \"„\": \"\",\n",
    "    \"“\": \"\",\n",
    "    \"\\n\": \"\",\n",
    "}"
   ]
  },
  {
   "cell_type": "code",
   "execution_count": 10,
   "metadata": {},
   "outputs": [],
   "source": [
    "joke_sentences = [\n",
    "    replace_all(joke_sentence, replacing_dict)\n",
    "    for joke_sentence in joke_sentences\n",
    "]"
   ]
  },
  {
   "cell_type": "code",
   "execution_count": 11,
   "metadata": {},
   "outputs": [
    {
     "data": {
      "text/plain": [
       "'Der Lehrer fragt Fritzchen: Wenn du 5€ vor dir liegen hast, und ich dir 2€ davon wegnehme, was gibt das dann? Fritzchen: Prügel! '"
      ]
     },
     "execution_count": 11,
     "metadata": {},
     "output_type": "execute_result"
    }
   ],
   "source": [
    "joke_sentences[0]"
   ]
  },
  {
   "cell_type": "code",
   "execution_count": 12,
   "metadata": {},
   "outputs": [],
   "source": [
    "no_joke_sentences = [\n",
    "    replace_all(no_joke, replacing_dict)[no_joke.index(\"\\t\")+1:]\n",
    "    for no_joke in no_joke_sentences\n",
    "]"
   ]
  },
  {
   "cell_type": "code",
   "execution_count": 13,
   "metadata": {},
   "outputs": [
    {
     "data": {
      "text/plain": [
       "'000 Arbeitsplätze werden weltweit gestrichen.'"
      ]
     },
     "execution_count": 13,
     "metadata": {},
     "output_type": "execute_result"
    }
   ],
   "source": [
    "no_joke_sentences[0]"
   ]
  },
  {
   "cell_type": "code",
   "execution_count": 14,
   "metadata": {},
   "outputs": [],
   "source": [
    "# Balance data sets\n",
    "np.random.shuffle(no_joke_sentences)\n",
    "no_joke_sentences = no_joke_sentences[:len(joke_sentences)]"
   ]
  },
  {
   "cell_type": "code",
   "execution_count": 15,
   "metadata": {},
   "outputs": [
    {
     "data": {
      "text/plain": [
       "'Sie werden deshalb bevorzugt.'"
      ]
     },
     "execution_count": 15,
     "metadata": {},
     "output_type": "execute_result"
    }
   ],
   "source": [
    "no_joke_sentences[0]"
   ]
  },
  {
   "cell_type": "code",
   "execution_count": 16,
   "metadata": {},
   "outputs": [],
   "source": [
    "sentences = []\n",
    "labels = []\n",
    "\n",
    "for joke in joke_sentences:\n",
    "    sentences.append(joke)\n",
    "    labels.append(1)\n",
    "    \n",
    "for no_joke in no_joke_sentences: \n",
    "    sentences.append(no_joke)\n",
    "    labels.append(0)"
   ]
  },
  {
   "cell_type": "code",
   "execution_count": 17,
   "metadata": {},
   "outputs": [
    {
     "name": "stdout",
     "output_type": "stream",
     "text": [
      "Number of samples: 39720\n"
     ]
    }
   ],
   "source": [
    "print(f\"Number of samples: {len(sentences)}\")"
   ]
  },
  {
   "cell_type": "code",
   "execution_count": 18,
   "metadata": {},
   "outputs": [],
   "source": [
    "tokenizer = Tokenizer(num_words=MAX_WORDS)\n",
    "tokenizer.fit_on_texts(sentences)\n",
    "\n",
    "sequences = tokenizer.texts_to_sequences(sentences)\n",
    "word_index = tokenizer.word_index"
   ]
  },
  {
   "cell_type": "code",
   "execution_count": 19,
   "metadata": {},
   "outputs": [],
   "source": [
    "# Save tokenizer\n",
    "with open('/home/martin/PycharmProjects/no_joke/tokenizer.pickle', 'wb') as handle:\n",
    "    pickle.dump(tokenizer, handle, protocol=pickle.HIGHEST_PROTOCOL)"
   ]
  },
  {
   "cell_type": "code",
   "execution_count": 20,
   "metadata": {},
   "outputs": [],
   "source": [
    "tokenized_sentences = pad_sequences(sequences, maxlen=MAX_LEN)\n",
    "labels = np.array(labels)"
   ]
  },
  {
   "cell_type": "code",
   "execution_count": 21,
   "metadata": {},
   "outputs": [],
   "source": [
    "# Shuffle the data\n",
    "indices = np.arange(tokenized_sentences.shape[0])\n",
    "np.random.shuffle(indices)\n",
    "\n",
    "tokenized_sentences = tokenized_sentences[indices]\n",
    "labels = labels[indices]"
   ]
  },
  {
   "cell_type": "markdown",
   "metadata": {},
   "source": [
    "## Train the model"
   ]
  },
  {
   "cell_type": "code",
   "execution_count": 22,
   "metadata": {},
   "outputs": [
    {
     "name": "stdout",
     "output_type": "stream",
     "text": [
      "Model: \"sequential_1\"\n",
      "_________________________________________________________________\n",
      "Layer (type)                 Output Shape              Param #   \n",
      "=================================================================\n",
      "embedding_1 (Embedding)      (None, 50, 100)           1000000   \n",
      "_________________________________________________________________\n",
      "flatten_1 (Flatten)          (None, 5000)              0         \n",
      "_________________________________________________________________\n",
      "dense_1 (Dense)              (None, 64)                320064    \n",
      "_________________________________________________________________\n",
      "dropout_1 (Dropout)          (None, 64)                0         \n",
      "_________________________________________________________________\n",
      "dense_2 (Dense)              (None, 1)                 65        \n",
      "=================================================================\n",
      "Total params: 1,320,129\n",
      "Trainable params: 1,320,129\n",
      "Non-trainable params: 0\n",
      "_________________________________________________________________\n"
     ]
    }
   ],
   "source": [
    "model = Sequential()\n",
    "model.add(Embedding(MAX_WORDS, EMBEDDING_DIM, input_length=MAX_LEN))\n",
    "model.add(Flatten())\n",
    "\n",
    "model.add(Dense(64, activation='relu'))\n",
    "model.add(Dropout(0.3)) # adding regularization\n",
    "\n",
    "model.add(Dense(1, activation='sigmoid'))\n",
    "model.summary()"
   ]
  },
  {
   "cell_type": "code",
   "execution_count": 23,
   "metadata": {},
   "outputs": [
    {
     "name": "stderr",
     "output_type": "stream",
     "text": [
      "/home/martin/anaconda3/lib/python3.7/site-packages/tensorflow/python/framework/indexed_slices.py:434: UserWarning: Converting sparse IndexedSlices to a dense Tensor of unknown shape. This may consume a large amount of memory.\n",
      "  \"Converting sparse IndexedSlices to a dense Tensor of unknown shape. \"\n"
     ]
    },
    {
     "name": "stdout",
     "output_type": "stream",
     "text": [
      "Train on 35748 samples, validate on 3972 samples\n",
      "Epoch 1/20\n",
      "35748/35748 [==============================] - 17s 480us/step - loss: 0.3978 - acc: 0.8305 - val_loss: 0.2630 - val_acc: 0.9094\n",
      "Epoch 2/20\n",
      "35748/35748 [==============================] - 18s 490us/step - loss: 0.2037 - acc: 0.9219 - val_loss: 0.1585 - val_acc: 0.9436\n",
      "Epoch 3/20\n",
      "35748/35748 [==============================] - 17s 465us/step - loss: 0.1504 - acc: 0.9425 - val_loss: 0.1323 - val_acc: 0.9519\n",
      "Epoch 4/20\n",
      "35748/35748 [==============================] - 17s 466us/step - loss: 0.1287 - acc: 0.9513 - val_loss: 0.1191 - val_acc: 0.9557\n",
      "Epoch 5/20\n",
      "35748/35748 [==============================] - 18s 490us/step - loss: 0.1157 - acc: 0.9573 - val_loss: 0.1118 - val_acc: 0.9580\n",
      "Epoch 6/20\n",
      "35748/35748 [==============================] - 18s 495us/step - loss: 0.1076 - acc: 0.9602 - val_loss: 0.1071 - val_acc: 0.9592\n",
      "Epoch 7/20\n",
      "35748/35748 [==============================] - 18s 491us/step - loss: 0.1009 - acc: 0.9624 - val_loss: 0.1052 - val_acc: 0.9637\n",
      "Epoch 8/20\n",
      "35748/35748 [==============================] - 17s 481us/step - loss: 0.0971 - acc: 0.9648 - val_loss: 0.1036 - val_acc: 0.9627\n",
      "Epoch 9/20\n",
      "35748/35748 [==============================] - 17s 476us/step - loss: 0.0930 - acc: 0.9659 - val_loss: 0.1020 - val_acc: 0.9637\n",
      "Epoch 10/20\n",
      "35748/35748 [==============================] - 17s 479us/step - loss: 0.0900 - acc: 0.9673 - val_loss: 0.1010 - val_acc: 0.9648\n",
      "Epoch 11/20\n",
      "35748/35748 [==============================] - 17s 480us/step - loss: 0.0876 - acc: 0.9692 - val_loss: 0.1073 - val_acc: 0.9630\n",
      "Epoch 12/20\n",
      "35748/35748 [==============================] - 18s 496us/step - loss: 0.0859 - acc: 0.9693 - val_loss: 0.1034 - val_acc: 0.9637\n",
      "Epoch 13/20\n",
      "35748/35748 [==============================] - 17s 486us/step - loss: 0.0824 - acc: 0.9708 - val_loss: 0.0998 - val_acc: 0.9645\n",
      "Epoch 14/20\n",
      "35748/35748 [==============================] - 17s 477us/step - loss: 0.0803 - acc: 0.9711 - val_loss: 0.0994 - val_acc: 0.9663\n",
      "Epoch 15/20\n",
      "35748/35748 [==============================] - 17s 482us/step - loss: 0.0781 - acc: 0.9722 - val_loss: 0.0995 - val_acc: 0.9635\n",
      "Epoch 16/20\n",
      "35748/35748 [==============================] - 17s 475us/step - loss: 0.0766 - acc: 0.9731 - val_loss: 0.1034 - val_acc: 0.9637\n",
      "Epoch 17/20\n",
      "35748/35748 [==============================] - 17s 476us/step - loss: 0.0750 - acc: 0.9747 - val_loss: 0.1007 - val_acc: 0.9670\n",
      "Epoch 18/20\n",
      "35748/35748 [==============================] - 17s 474us/step - loss: 0.0729 - acc: 0.9746 - val_loss: 0.1020 - val_acc: 0.9658\n",
      "Epoch 19/20\n",
      "35748/35748 [==============================] - 17s 477us/step - loss: 0.0720 - acc: 0.9754 - val_loss: 0.1049 - val_acc: 0.9650\n",
      "Epoch 20/20\n",
      "35748/35748 [==============================] - 17s 476us/step - loss: 0.0697 - acc: 0.9762 - val_loss: 0.1066 - val_acc: 0.9632\n"
     ]
    }
   ],
   "source": [
    "model.compile(optimizer=RMSprop(lr=1e-4), loss='binary_crossentropy', metrics = ['acc'])\n",
    "history = model.fit(tokenized_sentences, labels, epochs=20, batch_size=32, validation_split=0.1)"
   ]
  },
  {
   "cell_type": "code",
   "execution_count": 24,
   "metadata": {},
   "outputs": [],
   "source": [
    "accuracy = history.history['acc']\n",
    "validation_accuracy = history.history['val_acc']\n",
    "loss = history.history['loss']\n",
    "validation_loss = history.history['val_loss']\n",
    "  \n",
    "epochs = range(1, len(accuracy)+1)"
   ]
  },
  {
   "cell_type": "code",
   "execution_count": 25,
   "metadata": {},
   "outputs": [
    {
     "data": {
      "image/png": "[encoded data removed]",
      "text/plain": [
       "<Figure size 432x288 with 1 Axes>"
      ]
     },
     "metadata": {
      "needs_background": "light"
     },
     "output_type": "display_data"
    }
   ],
   "source": [
    "plt.plot(epochs, accuracy, label='Training accuracy')\n",
    "plt.plot(epochs, validation_accuracy, label='Validation accuracy')\n",
    "plt.title('Training and validation accuracy')\n",
    "plt.xlabel('epochs')\n",
    "plt.ylabel('accuracy')\n",
    "plt.legend()\n",
    "\n",
    "plt.show()"
   ]
  },
  {
   "cell_type": "code",
   "execution_count": 26,
   "metadata": {},
   "outputs": [
    {
     "data": {
      "image/png": "[encoded data removed]",
      "text/plain": [
       "<Figure size 432x288 with 1 Axes>"
      ]
     },
     "metadata": {
      "needs_background": "light"
     },
     "output_type": "display_data"
    }
   ],
   "source": [
    "plt.plot(epochs, loss, label='Training loss')\n",
    "plt.plot(epochs, validation_loss, label='Validation loss')\n",
    "plt.title('Training and validation loss')\n",
    "plt.xlabel('epochs')\n",
    "plt.ylabel('loss')\n",
    "plt.legend()\n",
    "\n",
    "plt.show()"
   ]
  },
  {
   "cell_type": "markdown",
   "metadata": {},
   "source": [
    "## Make predictions"
   ]
  },
  {
   "cell_type": "code",
   "execution_count": 27,
   "metadata": {},
   "outputs": [],
   "source": [
    "def predict(text):\n",
    "    x_test = pad_sequences(tokenizer.texts_to_sequences([text]), maxlen=MAX_LEN)\n",
    "    score = model.predict([x_test])[0]\n",
    "    return score"
   ]
  },
  {
   "cell_type": "code",
   "execution_count": 41,
   "metadata": {},
   "outputs": [
    {
     "data": {
      "text/plain": [
       "array([0.99526525], dtype=float32)"
      ]
     },
     "execution_count": 41,
     "metadata": {},
     "output_type": "execute_result"
    }
   ],
   "source": [
    "predict(\"Blondine\")"
   ]
  },
  {
   "cell_type": "code",
   "execution_count": 29,
   "metadata": {},
   "outputs": [
    {
     "data": {
      "text/plain": [
       "array([0.17703556], dtype=float32)"
      ]
     },
     "execution_count": 29,
     "metadata": {},
     "output_type": "execute_result"
    }
   ],
   "source": [
    "predict(\"Heute ist leider schlechtes Wetter.\")"
   ]
  },
  {
   "cell_type": "markdown",
   "metadata": {},
   "source": [
    "## Save the model"
   ]
  },
  {
   "cell_type": "code",
   "execution_count": 30,
   "metadata": {},
   "outputs": [],
   "source": [
    "model.save(\"/home/martin/PycharmProjects/no_joke/model.h5\")"
   ]
  },
  {
   "cell_type": "code",
   "execution_count": null,
   "metadata": {},
   "outputs": [],
   "source": []
  },
  {
   "cell_type": "code",
   "execution_count": null,
   "metadata": {},
   "outputs": [],
   "source": []
  }
 ],
 "metadata": {
  "kernelspec": {
   "display_name": "no_joke_env",
   "language": "python",
   "name": "no_joke_env"
  },
  "language_info": {
   "codemirror_mode": {
    "name": "ipython",
    "version": 3
   },
   "file_extension": ".py",
   "mimetype": "text/x-python",
   "name": "python",
   "nbconvert_exporter": "python",
   "pygments_lexer": "ipython3",
   "version": "3.7.6"
  }
 },
 "nbformat": 4,
 "nbformat_minor": 1
}
