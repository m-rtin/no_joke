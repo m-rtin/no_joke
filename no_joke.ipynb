{
 "cells": [
  {
   "cell_type": "code",
   "execution_count": 1,
   "metadata": {},
   "outputs": [
    {
     "name": "stderr",
     "output_type": "stream",
     "text": [
      "Using TensorFlow backend.\n"
     ]
    }
   ],
   "source": [
    "import pandas as pd\n",
    "import numpy as np\n",
    "import matplotlib.pyplot as plt\n",
    "from keras.preprocessing.text import Tokenizer\n",
    "from keras.preprocessing.sequence import pad_sequences\n",
    "from keras.models import Sequential\n",
    "from keras.layers import Embedding, Flatten, Dense, Dropout\n",
    "from keras.optimizers import RMSprop"
   ]
  },
  {
   "cell_type": "code",
   "execution_count": 2,
   "metadata": {},
   "outputs": [],
   "source": [
    "MAX_LEN = 50\n",
    "MAX_WORDS = 10000\n",
    "EMBEDDING_DIM = 100"
   ]
  },
  {
   "cell_type": "code",
   "execution_count": 3,
   "metadata": {},
   "outputs": [
    {
     "name": "stdout",
     "output_type": "stream",
     "text": [
      "fatal: destination path 'Short-Text-Corpus-For-Humor-Detection' already exists and is not an empty directory.\r\n"
     ]
    }
   ],
   "source": [
    "! git clone https://github.com/CrowdTruth/Short-Text-Corpus-For-Humor-Detection.git"
   ]
  },
  {
   "cell_type": "code",
   "execution_count": 4,
   "metadata": {},
   "outputs": [
    {
     "name": "stdout",
     "output_type": "stream",
     "text": [
      "/home/martin/PycharmProjects/no_joke/Short-Text-Corpus-For-Humor-Detection/datasets\n",
      "humorous_oneliners.pickle      proverbs.pickle\t\t wiki_sentences.pickle\r\n",
      "oneliners_incl_doubles.pickle  reuters_headlines.pickle\r\n"
     ]
    }
   ],
   "source": [
    "%cd Short-Text-Corpus-For-Humor-Detection/datasets\n",
    "!ls"
   ]
  },
  {
   "cell_type": "code",
   "execution_count": 5,
   "metadata": {},
   "outputs": [],
   "source": [
    "humorous_oneliners = pd.read_pickle('humorous_oneliners.pickle')\n",
    "proverbs = pd.read_pickle('proverbs.pickle')\n",
    "wiki_sentences = pd.read_pickle('wiki_sentences.pickle')\n",
    "reuters_headlines = pd.read_pickle('reuters_headlines.pickle')"
   ]
  },
  {
   "cell_type": "code",
   "execution_count": 6,
   "metadata": {},
   "outputs": [],
   "source": [
    "joke_sentences = humorous_oneliners\n",
    "\n",
    "no_joke_sentences = proverbs + wiki_sentences + reuters_headlines\n",
    "np.random.shuffle(no_joke_sentences)\n",
    "no_joke_sentences = no_joke_sentences[:len(humorous_oneliners)]"
   ]
  },
  {
   "cell_type": "code",
   "execution_count": 7,
   "metadata": {},
   "outputs": [],
   "source": [
    "sentences = []\n",
    "labels = []\n",
    "\n",
    "for joke in joke_sentences:\n",
    "    sentences.append(joke)\n",
    "    labels.append(1)\n",
    "    \n",
    "for no_joke in no_joke_sentences: \n",
    "    sentences.append(no_joke)\n",
    "    labels.append(0)"
   ]
  },
  {
   "cell_type": "code",
   "execution_count": 8,
   "metadata": {},
   "outputs": [
    {
     "name": "stdout",
     "output_type": "stream",
     "text": [
      "Number of samples: 10502\n"
     ]
    }
   ],
   "source": [
    "print(f\"Number of samples: {len(sentences)}\")"
   ]
  },
  {
   "cell_type": "code",
   "execution_count": 9,
   "metadata": {},
   "outputs": [],
   "source": [
    "tokenizer = Tokenizer(num_words=MAX_WORDS)\n",
    "tokenizer.fit_on_texts(sentences)\n",
    "\n",
    "sequences = tokenizer.texts_to_sequences(sentences)\n",
    "word_index = tokenizer.word_index"
   ]
  },
  {
   "cell_type": "code",
   "execution_count": 10,
   "metadata": {},
   "outputs": [],
   "source": [
    "tokenized_sentences = pad_sequences(sequences, maxlen=MAX_LEN)\n",
    "labels = np.array(labels)"
   ]
  },
  {
   "cell_type": "code",
   "execution_count": 11,
   "metadata": {},
   "outputs": [],
   "source": [
    "# Shuffle the data\n",
    "indices = np.arange(tokenized_sentences.shape[0])\n",
    "np.random.shuffle(indices)\n",
    "\n",
    "tokenized_sentences = tokenized_sentences[indices]\n",
    "labels = labels[indices]"
   ]
  },
  {
   "cell_type": "code",
   "execution_count": 12,
   "metadata": {},
   "outputs": [
    {
     "name": "stdout",
     "output_type": "stream",
     "text": [
      "Model: \"sequential_1\"\n",
      "_________________________________________________________________\n",
      "Layer (type)                 Output Shape              Param #   \n",
      "=================================================================\n",
      "embedding_1 (Embedding)      (None, 50, 100)           1000000   \n",
      "_________________________________________________________________\n",
      "flatten_1 (Flatten)          (None, 5000)              0         \n",
      "_________________________________________________________________\n",
      "dense_1 (Dense)              (None, 64)                320064    \n",
      "_________________________________________________________________\n",
      "dropout_1 (Dropout)          (None, 64)                0         \n",
      "_________________________________________________________________\n",
      "dense_2 (Dense)              (None, 1)                 65        \n",
      "=================================================================\n",
      "Total params: 1,320,129\n",
      "Trainable params: 1,320,129\n",
      "Non-trainable params: 0\n",
      "_________________________________________________________________\n"
     ]
    }
   ],
   "source": [
    "model = Sequential()\n",
    "model.add(Embedding(MAX_WORDS, EMBEDDING_DIM, input_length=MAX_LEN))\n",
    "model.add(Flatten())\n",
    "\n",
    "model.add(Dense(64, activation='relu'))\n",
    "model.add(Dropout(0.3)) # adding regularization\n",
    "\n",
    "model.add(Dense(1, activation='sigmoid'))\n",
    "model.summary()"
   ]
  },
  {
   "cell_type": "code",
   "execution_count": 13,
   "metadata": {},
   "outputs": [
    {
     "name": "stderr",
     "output_type": "stream",
     "text": [
      "/home/martin/anaconda3/lib/python3.7/site-packages/tensorflow/python/framework/indexed_slices.py:434: UserWarning: Converting sparse IndexedSlices to a dense Tensor of unknown shape. This may consume a large amount of memory.\n",
      "  \"Converting sparse IndexedSlices to a dense Tensor of unknown shape. \"\n"
     ]
    },
    {
     "name": "stdout",
     "output_type": "stream",
     "text": [
      "Train on 9451 samples, validate on 1051 samples\n",
      "Epoch 1/20\n",
      "9451/9451 [==============================] - 6s 639us/step - loss: 0.6223 - acc: 0.6745 - val_loss: 0.5391 - val_acc: 0.7536\n",
      "Epoch 2/20\n",
      "9451/9451 [==============================] - 6s 618us/step - loss: 0.4809 - acc: 0.7919 - val_loss: 0.3747 - val_acc: 0.8744\n",
      "Epoch 3/20\n",
      "9451/9451 [==============================] - 6s 688us/step - loss: 0.3114 - acc: 0.8911 - val_loss: 0.2612 - val_acc: 0.9125\n",
      "Epoch 4/20\n",
      "9451/9451 [==============================] - 6s 624us/step - loss: 0.2214 - acc: 0.9211 - val_loss: 0.2017 - val_acc: 0.9210\n",
      "Epoch 5/20\n",
      "9451/9451 [==============================] - 6s 626us/step - loss: 0.1800 - acc: 0.9351 - val_loss: 0.1834 - val_acc: 0.9315\n",
      "Epoch 6/20\n",
      "9451/9451 [==============================] - 6s 621us/step - loss: 0.1537 - acc: 0.9440 - val_loss: 0.1695 - val_acc: 0.9353\n",
      "Epoch 7/20\n",
      "9451/9451 [==============================] - 7s 755us/step - loss: 0.1368 - acc: 0.9488 - val_loss: 0.1624 - val_acc: 0.9363\n",
      "Epoch 8/20\n",
      "9451/9451 [==============================] - 7s 704us/step - loss: 0.1222 - acc: 0.9556 - val_loss: 0.1584 - val_acc: 0.9353\n",
      "Epoch 9/20\n",
      "9451/9451 [==============================] - 6s 639us/step - loss: 0.1097 - acc: 0.9602 - val_loss: 0.1527 - val_acc: 0.9391\n",
      "Epoch 10/20\n",
      "9451/9451 [==============================] - 6s 640us/step - loss: 0.0997 - acc: 0.9623 - val_loss: 0.1516 - val_acc: 0.9410\n",
      "Epoch 11/20\n",
      "9451/9451 [==============================] - 6s 643us/step - loss: 0.0903 - acc: 0.9669 - val_loss: 0.1476 - val_acc: 0.9410\n",
      "Epoch 12/20\n",
      "9451/9451 [==============================] - 6s 637us/step - loss: 0.0841 - acc: 0.9691 - val_loss: 0.1466 - val_acc: 0.9439\n",
      "Epoch 13/20\n",
      "9451/9451 [==============================] - 6s 641us/step - loss: 0.0761 - acc: 0.9737 - val_loss: 0.1513 - val_acc: 0.9401\n",
      "Epoch 14/20\n",
      "9451/9451 [==============================] - 6s 642us/step - loss: 0.0711 - acc: 0.9743 - val_loss: 0.1439 - val_acc: 0.9448\n",
      "Epoch 15/20\n",
      "9451/9451 [==============================] - 6s 626us/step - loss: 0.0666 - acc: 0.9776 - val_loss: 0.1450 - val_acc: 0.9458\n",
      "Epoch 16/20\n",
      "9451/9451 [==============================] - 6s 654us/step - loss: 0.0612 - acc: 0.9795 - val_loss: 0.1455 - val_acc: 0.9429\n",
      "Epoch 17/20\n",
      "9451/9451 [==============================] - 6s 648us/step - loss: 0.0562 - acc: 0.9812 - val_loss: 0.1547 - val_acc: 0.9401\n",
      "Epoch 18/20\n",
      "9451/9451 [==============================] - 6s 650us/step - loss: 0.0523 - acc: 0.9814 - val_loss: 0.1485 - val_acc: 0.9448\n",
      "Epoch 19/20\n",
      "9451/9451 [==============================] - 6s 642us/step - loss: 0.0487 - acc: 0.9840 - val_loss: 0.1536 - val_acc: 0.9410\n",
      "Epoch 20/20\n",
      "9451/9451 [==============================] - 6s 646us/step - loss: 0.0449 - acc: 0.9857 - val_loss: 0.1472 - val_acc: 0.9458\n"
     ]
    }
   ],
   "source": [
    "model.compile(optimizer=RMSprop(lr=1e-4), loss='binary_crossentropy', metrics = ['acc'])\n",
    "history = model.fit(tokenized_sentences, labels, epochs=20, batch_size=32, validation_split=0.1)"
   ]
  },
  {
   "cell_type": "code",
   "execution_count": 14,
   "metadata": {},
   "outputs": [],
   "source": [
    "accuracy = history.history['acc']\n",
    "validation_accuracy = history.history['val_acc']\n",
    "loss = history.history['loss']\n",
    "validation_loss = history.history['val_loss']\n",
    "  \n",
    "epochs = range(1, len(accuracy)+1)"
   ]
  },
  {
   "cell_type": "code",
   "execution_count": 15,
   "metadata": {},
   "outputs": [
    {
     "data": {
      "image/png": "[encoded data removed]",
      "text/plain": [
       "<Figure size 432x288 with 1 Axes>"
      ]
     },
     "metadata": {
      "needs_background": "light"
     },
     "output_type": "display_data"
    }
   ],
   "source": [
    "plt.plot(epochs, accuracy, label='Training accuracy')\n",
    "plt.plot(epochs, validation_accuracy, label='Validation accuracy')\n",
    "plt.title('Training and validation accuracy')\n",
    "plt.xlabel('epochs')\n",
    "plt.ylabel('accuracy')\n",
    "plt.legend()\n",
    "\n",
    "plt.show()"
   ]
  },
  {
   "cell_type": "code",
   "execution_count": 16,
   "metadata": {},
   "outputs": [
    {
     "data": {
      "image/png": "[encoded data removed]",
      "text/plain": [
       "<Figure size 432x288 with 1 Axes>"
      ]
     },
     "metadata": {
      "needs_background": "light"
     },
     "output_type": "display_data"
    }
   ],
   "source": [
    "plt.plot(epochs, loss, label='Training loss')\n",
    "plt.plot(epochs, validation_loss, label='Validation loss')\n",
    "plt.title('Training and validation loss')\n",
    "plt.xlabel('epochs')\n",
    "plt.ylabel('loss')\n",
    "plt.legend()\n",
    "\n",
    "plt.show()"
   ]
  },
  {
   "cell_type": "code",
   "execution_count": null,
   "outputs": [],
   "source": [
    "def predict(text):\n",
    "    x_test = pad_sequences(tokenizer.texts_to_sequences([text]), maxlen=MAX_LEN)\n",
    "    score = model.predict([x_test])[0]\n",
    "    return score"
   ],
   "metadata": {
    "collapsed": false,
    "pycharm": {
     "name": "#%%\n"
    }
   }
  },
  {
   "cell_type": "code",
   "execution_count": null,
   "outputs": [],
   "source": [
    "predict(\"Did you hear about the claustrophobic astronaut? He just needed a little space.\")"
   ],
   "metadata": {
    "collapsed": false,
    "pycharm": {
     "name": "#%%\n"
    }
   }
  },
  {
   "cell_type": "code",
   "execution_count": null,
   "outputs": [],
   "source": [
    "predict(\"Henri Lebesgue was born on 28 June 1875 in Beauvais, Oise.\" \n",
    "        \"Lebesgue's father was a typesetter and his mother was a school teacher.\")"
   ],
   "metadata": {
    "collapsed": false,
    "pycharm": {
     "name": "#%%\n"
    }
   }
  },
  {
   "cell_type": "code",
   "execution_count": 22,
   "metadata": {},
   "outputs": [],
   "source": []
  },
  {
   "cell_type": "code",
   "execution_count": 23,
   "metadata": {},
   "outputs": [
    {
     "data": {
      "text/plain": [
       "array([0.9997123], dtype=float32)"
      ]
     },
     "execution_count": 23,
     "metadata": {},
     "output_type": "execute_result"
    }
   ],
   "source": [
    "predict(\"Did you hear about the claustrophobic astronaut? He just needed a little space.\")"
   ]
  },
  {
   "cell_type": "code",
   "execution_count": 24,
   "metadata": {},
   "outputs": [
    {
     "data": {
      "text/plain": [
       "array([0.01570646], dtype=float32)"
      ]
     },
     "execution_count": 24,
     "metadata": {},
     "output_type": "execute_result"
    }
   ],
   "source": [
    "predict(\"Henri Lebesgue was born on 28 June 1875 in Beauvais, Oise.\" \n",
    "        \"Lebesgue's father was a typesetter and his mother was a school teacher.\")"
   ]
  },
  {
   "cell_type": "code",
   "execution_count": null,
   "metadata": {},
   "outputs": [],
   "source": []
  }
 ],
 "metadata": {
  "kernelspec": {
   "display_name": "no_joke_env",
   "language": "python",
   "name": "no_joke_env"
  },
  "language_info": {
   "codemirror_mode": {
    "name": "ipython",
    "version": 3
   },
   "file_extension": ".py",
   "mimetype": "text/x-python",
   "name": "python",
   "nbconvert_exporter": "python",
   "pygments_lexer": "ipython3",
   "version": "3.7.6"
  },
  "pycharm": {
   "stem_cell": {
    "cell_type": "raw",
    "source": [],
    "metadata": {
     "collapsed": false
    }
   }
  }
 },
 "nbformat": 4,
 "nbformat_minor": 1
}