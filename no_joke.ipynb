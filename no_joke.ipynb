{
 "cells": [
  {
   "cell_type": "code",
   "execution_count": 72,
   "metadata": {},
   "outputs": [],
   "source": [
    "import pandas as pd\n",
    "import numpy as np"
   ]
  },
  {
   "cell_type": "code",
   "execution_count": 8,
   "metadata": {},
   "outputs": [
    {
     "name": "stdout",
     "output_type": "stream",
     "text": [
      "Cloning into 'Short-Text-Corpus-For-Humor-Detection'...\n",
      "remote: Enumerating objects: 43, done.\u001b[K\n",
      "remote: Counting objects: 100% (43/43), done.\u001b[K\n",
      "remote: Compressing objects: 100% (28/28), done.\u001b[K\n",
      "remote: Total 43 (delta 13), reused 43 (delta 13), pack-reused 0\u001b[K\n",
      "Unpacking objects: 100% (43/43), done.\n"
     ]
    }
   ],
   "source": [
    "! git clone https://github.com/CrowdTruth/Short-Text-Corpus-For-Humor-Detection.git"
   ]
  },
  {
   "cell_type": "code",
   "execution_count": 25,
   "metadata": {},
   "outputs": [
    {
     "name": "stdout",
     "output_type": "stream",
     "text": [
      "/home/martin/PycharmProjects/no_joke/Short-Text-Corpus-For-Humor-Detection/datasets\n",
      "humorous_oneliners.pickle      proverbs.pickle\t\t wiki_sentences.pickle\r\n",
      "oneliners_incl_doubles.pickle  reuters_headlines.pickle\r\n"
     ]
    }
   ],
   "source": [
    "%cd Short-Text-Corpus-For-Humor-Detection/datasets\n",
    "!ls"
   ]
  },
  {
   "cell_type": "code",
   "execution_count": 86,
   "metadata": {},
   "outputs": [],
   "source": [
    "humorous_oneliners = pd.read_pickle('humorous_oneliners.pickle')\n",
    "proverbs = pd.read_pickle('proverbs.pickle')\n",
    "wiki_sentences = pd.read_pickle('wiki_sentences.pickle')\n",
    "reuters_headlines = pd.read_pickle('reuters_headlines.pickle')"
   ]
  },
  {
   "cell_type": "code",
   "execution_count": 87,
   "metadata": {},
   "outputs": [],
   "source": []
  },
  {
   "cell_type": "code",
   "execution_count": null,
   "metadata": {},
   "outputs": [],
   "source": []
  },
  {
   "cell_type": "code",
   "execution_count": 88,
   "metadata": {},
   "outputs": [],
   "source": [
    "joke_sentences = humorous_oneliners\n",
    "\n",
    "no_joke_sentences = proverbs + wiki_sentences + reuters_headlines\n",
    "np.random.shuffle(no_joke_sentences)\n",
    "no_joke_sentences = no_joke_sentences[:len(humorous_oneliners)]"
   ]
  },
  {
   "cell_type": "code",
   "execution_count": 89,
   "metadata": {},
   "outputs": [],
   "source": [
    "sentences = []\n",
    "labels = []\n",
    "\n",
    "for joke in joke_sentences:\n",
    "    sentences.append(joke)\n",
    "    labels.append(1)\n",
    "    \n",
    "for no_joke in no_joke_sentences: \n",
    "    sentences.append(no_joke)\n",
    "    labels.append(0)"
   ]
  },
  {
   "cell_type": "code",
   "execution_count": 94,
   "metadata": {},
   "outputs": [
    {
     "name": "stdout",
     "output_type": "stream",
     "text": [
      "Number of samples: 10502\n"
     ]
    }
   ],
   "source": [
    "print(f\"Number of samples: {len(sentences)}\")"
   ]
  },
  {
   "cell_type": "code",
   "execution_count": null,
   "metadata": {},
   "outputs": [],
   "source": []
  }
 ],
 "metadata": {
  "kernelspec": {
   "display_name": "Python 3",
   "language": "python",
   "name": "python3"
  },
  "language_info": {
   "codemirror_mode": {
    "name": "ipython",
    "version": 3
   },
   "file_extension": ".py",
   "mimetype": "text/x-python",
   "name": "python",
   "nbconvert_exporter": "python",
   "pygments_lexer": "ipython3",
   "version": "3.7.6"
  }
 },
 "nbformat": 4,
 "nbformat_minor": 1
}
