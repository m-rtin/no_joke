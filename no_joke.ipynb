{
 "cells": [
  {
   "cell_type": "markdown",
   "metadata": {},
   "source": [
    "# No joke"
   ]
  },
  {
   "cell_type": "code",
   "execution_count": 1,
   "metadata": {},
   "outputs": [
    {
     "name": "stderr",
     "output_type": "stream",
     "text": [
      "Using TensorFlow backend.\n"
     ]
    }
   ],
   "source": [
    "import pickle\n",
    "\n",
    "import pandas as pd\n",
    "import numpy as np\n",
    "import matplotlib.pyplot as plt\n",
    "from keras.preprocessing.text import Tokenizer\n",
    "from keras.preprocessing.sequence import pad_sequences\n",
    "from keras.models import Sequential\n",
    "from keras.layers import Embedding, Flatten, Dense, Dropout, SimpleRNN\n",
    "from keras.optimizers import RMSprop"
   ]
  },
  {
   "cell_type": "markdown",
   "metadata": {},
   "source": [
    "## Settings"
   ]
  },
  {
   "cell_type": "code",
   "execution_count": 2,
   "metadata": {},
   "outputs": [],
   "source": [
    "MAX_LEN = 50\n",
    "MAX_WORDS = 10000\n",
    "EMBEDDING_DIM = 100"
   ]
  },
  {
   "cell_type": "markdown",
   "metadata": {},
   "source": [
    "## Get the data"
   ]
  },
  {
   "cell_type": "code",
   "execution_count": 3,
   "metadata": {},
   "outputs": [],
   "source": [
    "joke_sentences = []\n",
    "\n",
    "with open(\"joke_sentences.txt\", \"r\") as csv_file:\n",
    "    for row in csv_file:\n",
    "        joke_sentences.append(row)"
   ]
  },
  {
   "cell_type": "code",
   "execution_count": 4,
   "metadata": {},
   "outputs": [
    {
     "data": {
      "text/plain": [
       "19860"
      ]
     },
     "execution_count": 4,
     "metadata": {},
     "output_type": "execute_result"
    }
   ],
   "source": [
    "len(joke_sentences)"
   ]
  },
  {
   "cell_type": "code",
   "execution_count": 5,
   "metadata": {
    "scrolled": false
   },
   "outputs": [
    {
     "data": {
      "text/plain": [
       "'Der Lehrer fragt Fritzchen: „Wenn du 5€ vor dir liegen hast, und ich dir 2€ davon wegnehme, was gibt das dann?“ Fritzchen: „Prügel!“ \\n'"
      ]
     },
     "execution_count": 5,
     "metadata": {},
     "output_type": "execute_result"
    }
   ],
   "source": [
    "joke_sentences[0]"
   ]
  },
  {
   "cell_type": "code",
   "execution_count": 6,
   "metadata": {},
   "outputs": [],
   "source": [
    "no_joke_sentences = []\n",
    "\n",
    "with open(\"no_joke_sentences.txt\", \"r\") as csv_file:\n",
    "    for row in csv_file:\n",
    "        no_joke_sentences.append(row)"
   ]
  },
  {
   "cell_type": "code",
   "execution_count": 7,
   "metadata": {},
   "outputs": [
    {
     "data": {
      "text/plain": [
       "999926"
      ]
     },
     "execution_count": 7,
     "metadata": {},
     "output_type": "execute_result"
    }
   ],
   "source": [
    "len(no_joke_sentences)"
   ]
  },
  {
   "cell_type": "code",
   "execution_count": 8,
   "metadata": {},
   "outputs": [
    {
     "data": {
      "text/plain": [
       "'2\\t000 Besucher werden pro Jahr im Klimahaus erwartet.\\n'"
      ]
     },
     "execution_count": 8,
     "metadata": {},
     "output_type": "execute_result"
    }
   ],
   "source": [
    "no_joke_sentences[1]"
   ]
  },
  {
   "cell_type": "markdown",
   "metadata": {},
   "source": [
    "## Prepare the data"
   ]
  },
  {
   "cell_type": "code",
   "execution_count": 9,
   "metadata": {},
   "outputs": [],
   "source": [
    "def replace_all(text, dic):\n",
    "    for i, j in dic.items():\n",
    "        text = text.replace(i, j)\n",
    "    return text\n",
    "\n",
    "replacing_dict = {\n",
    "    \"„\": \"\",\n",
    "    \"“\": \"\",\n",
    "    \"\\n\": \"\",\n",
    "}"
   ]
  },
  {
   "cell_type": "code",
   "execution_count": 10,
   "metadata": {},
   "outputs": [],
   "source": [
    "joke_sentences = [\n",
    "    replace_all(joke_sentence, replacing_dict)\n",
    "    for joke_sentence in joke_sentences\n",
    "]"
   ]
  },
  {
   "cell_type": "code",
   "execution_count": 11,
   "metadata": {},
   "outputs": [
    {
     "data": {
      "text/plain": [
       "'Der Lehrer fragt Fritzchen: Wenn du 5€ vor dir liegen hast, und ich dir 2€ davon wegnehme, was gibt das dann? Fritzchen: Prügel! '"
      ]
     },
     "execution_count": 11,
     "metadata": {},
     "output_type": "execute_result"
    }
   ],
   "source": [
    "joke_sentences[0]"
   ]
  },
  {
   "cell_type": "code",
   "execution_count": 12,
   "metadata": {},
   "outputs": [],
   "source": [
    "no_joke_sentences = [\n",
    "    replace_all(no_joke, replacing_dict)[no_joke.index(\"\\t\")+1:]\n",
    "    for no_joke in no_joke_sentences\n",
    "]"
   ]
  },
  {
   "cell_type": "code",
   "execution_count": 13,
   "metadata": {},
   "outputs": [
    {
     "data": {
      "text/plain": [
       "'000 Arbeitsplätze werden weltweit gestrichen.'"
      ]
     },
     "execution_count": 13,
     "metadata": {},
     "output_type": "execute_result"
    }
   ],
   "source": [
    "no_joke_sentences[0]"
   ]
  },
  {
   "cell_type": "code",
   "execution_count": 14,
   "metadata": {},
   "outputs": [],
   "source": [
    "# Balance data sets\n",
    "np.random.shuffle(no_joke_sentences)\n",
    "no_joke_sentences = no_joke_sentences[:len(joke_sentences)]"
   ]
  },
  {
   "cell_type": "code",
   "execution_count": 15,
   "metadata": {},
   "outputs": [
    {
     "data": {
      "text/plain": [
       "'Ein ganzes Dorf ist auf den Beinen.'"
      ]
     },
     "execution_count": 15,
     "metadata": {},
     "output_type": "execute_result"
    }
   ],
   "source": [
    "no_joke_sentences[0]"
   ]
  },
  {
   "cell_type": "code",
   "execution_count": 16,
   "metadata": {},
   "outputs": [],
   "source": [
    "sentences = []\n",
    "labels = []\n",
    "\n",
    "for joke in joke_sentences:\n",
    "    sentences.append(joke)\n",
    "    labels.append(1)\n",
    "    \n",
    "for no_joke in no_joke_sentences: \n",
    "    sentences.append(no_joke)\n",
    "    labels.append(0)"
   ]
  },
  {
   "cell_type": "code",
   "execution_count": 17,
   "metadata": {},
   "outputs": [
    {
     "name": "stdout",
     "output_type": "stream",
     "text": [
      "Number of samples: 39720\n"
     ]
    }
   ],
   "source": [
    "print(f\"Number of samples: {len(sentences)}\")"
   ]
  },
  {
   "cell_type": "code",
   "execution_count": 18,
   "metadata": {},
   "outputs": [],
   "source": [
    "tokenizer = Tokenizer(num_words=MAX_WORDS)\n",
    "tokenizer.fit_on_texts(sentences)\n",
    "\n",
    "sequences = tokenizer.texts_to_sequences(sentences)\n",
    "word_index = tokenizer.word_index"
   ]
  },
  {
   "cell_type": "code",
   "execution_count": 19,
   "metadata": {},
   "outputs": [],
   "source": [
    "# Save tokenizer\n",
    "with open('/home/martin/PycharmProjects/no_joke/tokenizer.pickle', 'wb') as handle:\n",
    "    pickle.dump(tokenizer, handle, protocol=pickle.HIGHEST_PROTOCOL)"
   ]
  },
  {
   "cell_type": "code",
   "execution_count": 20,
   "metadata": {},
   "outputs": [],
   "source": [
    "tokenized_sentences = pad_sequences(sequences, maxlen=MAX_LEN)\n",
    "labels = np.array(labels)"
   ]
  },
  {
   "cell_type": "code",
   "execution_count": 21,
   "metadata": {},
   "outputs": [],
   "source": [
    "# Shuffle the data\n",
    "indices = np.arange(tokenized_sentences.shape[0])\n",
    "np.random.shuffle(indices)\n",
    "\n",
    "tokenized_sentences = tokenized_sentences[indices]\n",
    "labels = labels[indices]"
   ]
  },
  {
   "cell_type": "markdown",
   "metadata": {},
   "source": [
    "## Train the model"
   ]
  },
  {
   "cell_type": "markdown",
   "metadata": {},
   "source": [
    "### Neural Network"
   ]
  },
  {
   "cell_type": "code",
   "execution_count": 22,
   "metadata": {},
   "outputs": [
    {
     "name": "stdout",
     "output_type": "stream",
     "text": [
      "Model: \"sequential_1\"\n",
      "_________________________________________________________________\n",
      "Layer (type)                 Output Shape              Param #   \n",
      "=================================================================\n",
      "embedding_1 (Embedding)      (None, 50, 100)           1000000   \n",
      "_________________________________________________________________\n",
      "flatten_1 (Flatten)          (None, 5000)              0         \n",
      "_________________________________________________________________\n",
      "dense_1 (Dense)              (None, 64)                320064    \n",
      "_________________________________________________________________\n",
      "dropout_1 (Dropout)          (None, 64)                0         \n",
      "_________________________________________________________________\n",
      "dense_2 (Dense)              (None, 1)                 65        \n",
      "=================================================================\n",
      "Total params: 1,320,129\n",
      "Trainable params: 1,320,129\n",
      "Non-trainable params: 0\n",
      "_________________________________________________________________\n"
     ]
    }
   ],
   "source": [
    "model = Sequential()\n",
    "model.add(Embedding(MAX_WORDS, EMBEDDING_DIM, input_length=MAX_LEN))\n",
    "model.add(Flatten())\n",
    "\n",
    "model.add(Dense(64, activation='relu'))\n",
    "model.add(Dropout(0.3)) # adding regularization\n",
    "\n",
    "model.add(Dense(1, activation='sigmoid'))\n",
    "model.summary()"
   ]
  },
  {
   "cell_type": "code",
   "execution_count": 23,
   "metadata": {},
   "outputs": [
    {
     "name": "stderr",
     "output_type": "stream",
     "text": [
      "/home/martin/anaconda3/lib/python3.7/site-packages/tensorflow/python/framework/indexed_slices.py:434: UserWarning: Converting sparse IndexedSlices to a dense Tensor of unknown shape. This may consume a large amount of memory.\n",
      "  \"Converting sparse IndexedSlices to a dense Tensor of unknown shape. \"\n"
     ]
    },
    {
     "name": "stdout",
     "output_type": "stream",
     "text": [
      "Train on 35748 samples, validate on 3972 samples\n",
      "Epoch 1/20\n",
      "35748/35748 [==============================] - 17s 479us/step - loss: 0.4037 - acc: 0.8283 - val_loss: 0.2613 - val_acc: 0.9011\n",
      "Epoch 2/20\n",
      "35748/35748 [==============================] - 16s 452us/step - loss: 0.2078 - acc: 0.9197 - val_loss: 0.1636 - val_acc: 0.9406\n",
      "Epoch 3/20\n",
      "35748/35748 [==============================] - 16s 451us/step - loss: 0.1531 - acc: 0.9421 - val_loss: 0.1425 - val_acc: 0.9496\n",
      "Epoch 4/20\n",
      "35748/35748 [==============================] - 16s 454us/step - loss: 0.1309 - acc: 0.9513 - val_loss: 0.1276 - val_acc: 0.9527\n",
      "Epoch 5/20\n",
      "35748/35748 [==============================] - 16s 452us/step - loss: 0.1198 - acc: 0.9554 - val_loss: 0.1204 - val_acc: 0.9567\n",
      "Epoch 6/20\n",
      "35748/35748 [==============================] - 16s 457us/step - loss: 0.1119 - acc: 0.9593 - val_loss: 0.1162 - val_acc: 0.9605\n",
      "Epoch 7/20\n",
      "35748/35748 [==============================] - 16s 456us/step - loss: 0.1054 - acc: 0.9616 - val_loss: 0.1161 - val_acc: 0.9585\n",
      "Epoch 8/20\n",
      "35748/35748 [==============================] - 16s 457us/step - loss: 0.1008 - acc: 0.9636 - val_loss: 0.1122 - val_acc: 0.9602\n",
      "Epoch 9/20\n",
      "35748/35748 [==============================] - 16s 459us/step - loss: 0.0966 - acc: 0.9646 - val_loss: 0.1090 - val_acc: 0.9602\n",
      "Epoch 10/20\n",
      "35748/35748 [==============================] - 16s 458us/step - loss: 0.0938 - acc: 0.9662 - val_loss: 0.1102 - val_acc: 0.9602\n",
      "Epoch 11/20\n",
      "35748/35748 [==============================] - 16s 459us/step - loss: 0.0903 - acc: 0.9670 - val_loss: 0.1098 - val_acc: 0.9612\n",
      "Epoch 12/20\n",
      "35748/35748 [==============================] - 17s 466us/step - loss: 0.0880 - acc: 0.9682 - val_loss: 0.1076 - val_acc: 0.9617\n",
      "Epoch 13/20\n",
      "35748/35748 [==============================] - 16s 459us/step - loss: 0.0853 - acc: 0.9694 - val_loss: 0.1082 - val_acc: 0.9627\n",
      "Epoch 14/20\n",
      "35748/35748 [==============================] - 17s 465us/step - loss: 0.0832 - acc: 0.9700 - val_loss: 0.1055 - val_acc: 0.9617\n",
      "Epoch 15/20\n",
      "35748/35748 [==============================] - 17s 464us/step - loss: 0.0803 - acc: 0.9710 - val_loss: 0.1090 - val_acc: 0.9615\n",
      "Epoch 16/20\n",
      "35748/35748 [==============================] - 17s 469us/step - loss: 0.0788 - acc: 0.9725 - val_loss: 0.1080 - val_acc: 0.9625\n",
      "Epoch 17/20\n",
      "35748/35748 [==============================] - 17s 467us/step - loss: 0.0771 - acc: 0.9725 - val_loss: 0.1059 - val_acc: 0.9632\n",
      "Epoch 18/20\n",
      "35748/35748 [==============================] - 17s 465us/step - loss: 0.0758 - acc: 0.9733 - val_loss: 0.1083 - val_acc: 0.9610\n",
      "Epoch 19/20\n",
      "35748/35748 [==============================] - 17s 462us/step - loss: 0.0734 - acc: 0.9749 - val_loss: 0.1078 - val_acc: 0.9622\n",
      "Epoch 20/20\n",
      "35748/35748 [==============================] - 17s 466us/step - loss: 0.0713 - acc: 0.9754 - val_loss: 0.1098 - val_acc: 0.9617\n"
     ]
    }
   ],
   "source": [
    "model.compile(optimizer=RMSprop(lr=1e-4), loss='binary_crossentropy', metrics = ['acc'])\n",
    "history = model.fit(tokenized_sentences, labels, epochs=20, batch_size=32, validation_split=0.1)"
   ]
  },
  {
   "cell_type": "code",
   "execution_count": 24,
   "metadata": {},
   "outputs": [],
   "source": [
    "def plot_results(history):\n",
    "    accuracy = history.history['acc']\n",
    "    validation_accuracy = history.history['val_acc']\n",
    "    loss = history.history['loss']\n",
    "    validation_loss = history.history['val_loss']\n",
    "      \n",
    "    epochs = range(1, len(accuracy)+1)\n",
    "    \n",
    "    plt.plot(epochs, accuracy, label='Training accuracy')\n",
    "    plt.plot(epochs, validation_accuracy, label='Validation accuracy')\n",
    "    plt.title('Training and validation accuracy')\n",
    "    plt.xlabel('epochs')\n",
    "    plt.ylabel('accuracy')\n",
    "    plt.legend()\n",
    "    \n",
    "    plt.show()\n",
    "    \n",
    "    plt.plot(epochs, loss, label='Training loss')\n",
    "    plt.plot(epochs, validation_loss, label='Validation loss')\n",
    "    plt.title('Training and validation loss')\n",
    "    plt.xlabel('epochs')\n",
    "    plt.ylabel('loss')\n",
    "    plt.legend()\n",
    "    \n",
    "    plt.show()"
   ]
  },
  {
   "cell_type": "code",
   "execution_count": 25,
   "metadata": {},
   "outputs": [
    {
     "data": {
      "image/png": "[encoded data removed]",
      "text/plain": [
       "<Figure size 432x288 with 1 Axes>"
      ]
     },
     "metadata": {
      "needs_background": "light"
     },
     "output_type": "display_data"
    },
    {
     "data": {
      "image/png": "[encoded data removed]",
      "text/plain": [
       "<Figure size 432x288 with 1 Axes>"
      ]
     },
     "metadata": {
      "needs_background": "light"
     },
     "output_type": "display_data"
    }
   ],
   "source": [
    "plot_results(history)"
   ]
  },
  {
   "cell_type": "markdown",
   "metadata": {},
   "source": [
    "### RNN"
   ]
  },
  {
   "cell_type": "code",
   "execution_count": 26,
   "metadata": {},
   "outputs": [
    {
     "name": "stdout",
     "output_type": "stream",
     "text": [
      "Model: \"sequential_2\"\n",
      "_________________________________________________________________\n",
      "Layer (type)                 Output Shape              Param #   \n",
      "=================================================================\n",
      "embedding_2 (Embedding)      (None, None, 32)          320000    \n",
      "_________________________________________________________________\n",
      "simple_rnn_1 (SimpleRNN)     (None, 64)                6208      \n",
      "_________________________________________________________________\n",
      "dense_3 (Dense)              (None, 1)                 65        \n",
      "=================================================================\n",
      "Total params: 326,273\n",
      "Trainable params: 326,273\n",
      "Non-trainable params: 0\n",
      "_________________________________________________________________\n"
     ]
    }
   ],
   "source": [
    "rnn_model = Sequential()\n",
    "rnn_model.add(Embedding(MAX_WORDS, 32))\n",
    "rnn_model.add(SimpleRNN(64, dropout=0.1))\n",
    "rnn_model.add(Dense(1, activation='sigmoid'))\n",
    "rnn_model.summary()"
   ]
  },
  {
   "cell_type": "code",
   "execution_count": 27,
   "metadata": {},
   "outputs": [
    {
     "name": "stdout",
     "output_type": "stream",
     "text": [
      "Train on 35748 samples, validate on 3972 samples\n",
      "Epoch 1/20\n",
      "35748/35748 [==============================] - 18s 505us/step - loss: 0.4114 - acc: 0.8254 - val_loss: 0.3121 - val_acc: 0.8852\n",
      "Epoch 2/20\n",
      "35748/35748 [==============================] - 17s 473us/step - loss: 0.2346 - acc: 0.8977 - val_loss: 0.1946 - val_acc: 0.9091\n",
      "Epoch 3/20\n",
      "35748/35748 [==============================] - 18s 495us/step - loss: 0.1808 - acc: 0.9208 - val_loss: 0.1605 - val_acc: 0.9471\n",
      "Epoch 4/20\n",
      "35748/35748 [==============================] - 18s 494us/step - loss: 0.1552 - acc: 0.9392 - val_loss: 0.1458 - val_acc: 0.9484\n",
      "Epoch 5/20\n",
      "35748/35748 [==============================] - 17s 481us/step - loss: 0.1401 - acc: 0.9475 - val_loss: 0.1348 - val_acc: 0.9524\n",
      "Epoch 6/20\n",
      "35748/35748 [==============================] - 17s 478us/step - loss: 0.1282 - acc: 0.9524 - val_loss: 0.1276 - val_acc: 0.9567\n",
      "Epoch 7/20\n",
      "35748/35748 [==============================] - 17s 477us/step - loss: 0.1210 - acc: 0.9557 - val_loss: 0.1243 - val_acc: 0.9577\n",
      "Epoch 8/20\n",
      "35748/35748 [==============================] - 18s 493us/step - loss: 0.1144 - acc: 0.9585 - val_loss: 0.1199 - val_acc: 0.9590\n",
      "Epoch 9/20\n",
      "35748/35748 [==============================] - 17s 476us/step - loss: 0.1110 - acc: 0.9591 - val_loss: 0.1164 - val_acc: 0.9612\n",
      "Epoch 10/20\n",
      "35748/35748 [==============================] - 17s 484us/step - loss: 0.1064 - acc: 0.9608 - val_loss: 0.1146 - val_acc: 0.9590\n",
      "Epoch 11/20\n",
      "35748/35748 [==============================] - 17s 480us/step - loss: 0.1033 - acc: 0.9623 - val_loss: 0.1142 - val_acc: 0.9610\n",
      "Epoch 12/20\n",
      "35748/35748 [==============================] - 17s 479us/step - loss: 0.1002 - acc: 0.9632 - val_loss: 0.1120 - val_acc: 0.9622\n",
      "Epoch 13/20\n",
      "35748/35748 [==============================] - 17s 483us/step - loss: 0.0977 - acc: 0.9636 - val_loss: 0.1092 - val_acc: 0.9625\n",
      "Epoch 14/20\n",
      "35748/35748 [==============================] - 17s 480us/step - loss: 0.0951 - acc: 0.9651 - val_loss: 0.1123 - val_acc: 0.9615\n",
      "Epoch 15/20\n",
      "35748/35748 [==============================] - 17s 482us/step - loss: 0.0934 - acc: 0.9658 - val_loss: 0.1082 - val_acc: 0.9622\n",
      "Epoch 16/20\n",
      "35748/35748 [==============================] - 17s 485us/step - loss: 0.0910 - acc: 0.9662 - val_loss: 0.1072 - val_acc: 0.9622\n",
      "Epoch 17/20\n",
      "35748/35748 [==============================] - 18s 491us/step - loss: 0.0894 - acc: 0.9672 - val_loss: 0.1057 - val_acc: 0.9622\n",
      "Epoch 18/20\n",
      "35748/35748 [==============================] - 17s 486us/step - loss: 0.0882 - acc: 0.9676 - val_loss: 0.1055 - val_acc: 0.9627\n",
      "Epoch 19/20\n",
      "35748/35748 [==============================] - 17s 489us/step - loss: 0.0869 - acc: 0.9679 - val_loss: 0.1082 - val_acc: 0.9622\n",
      "Epoch 20/20\n",
      "35748/35748 [==============================] - 18s 506us/step - loss: 0.0864 - acc: 0.9685 - val_loss: 0.1073 - val_acc: 0.9622\n"
     ]
    }
   ],
   "source": [
    "rnn_model.compile(optimizer=RMSprop(lr=1e-4), loss='binary_crossentropy', metrics=['acc'])\n",
    "history = rnn_model.fit(tokenized_sentences, labels, epochs=20, batch_size=32, validation_split=0.1)"
   ]
  },
  {
   "cell_type": "code",
   "execution_count": 28,
   "metadata": {},
   "outputs": [
    {
     "data": {
      "image/png": "[encoded data removed]",
      "text/plain": [
       "<Figure size 432x288 with 1 Axes>"
      ]
     },
     "metadata": {
      "needs_background": "light"
     },
     "output_type": "display_data"
    },
    {
     "data": {
      "image/png": "[encoded data removed]",
      "text/plain": [
       "<Figure size 432x288 with 1 Axes>"
      ]
     },
     "metadata": {
      "needs_background": "light"
     },
     "output_type": "display_data"
    }
   ],
   "source": [
    "plot_results(history)"
   ]
  },
  {
   "cell_type": "markdown",
   "metadata": {},
   "source": [
    "## Make predictions"
   ]
  },
  {
   "cell_type": "code",
   "execution_count": 29,
   "metadata": {},
   "outputs": [],
   "source": [
    "def predict(model, text):\n",
    "    x_test = pad_sequences(tokenizer.texts_to_sequences([text]), maxlen=MAX_LEN)\n",
    "    score = model.predict([x_test])[0]\n",
    "    return score"
   ]
  },
  {
   "cell_type": "code",
   "execution_count": 30,
   "metadata": {},
   "outputs": [
    {
     "data": {
      "text/plain": [
       "array([0.9956442], dtype=float32)"
      ]
     },
     "execution_count": 30,
     "metadata": {},
     "output_type": "execute_result"
    }
   ],
   "source": [
    "predict(model, \"Blondine\")"
   ]
  },
  {
   "cell_type": "code",
   "execution_count": 31,
   "metadata": {},
   "outputs": [
    {
     "data": {
      "text/plain": [
       "array([0.0499665], dtype=float32)"
      ]
     },
     "execution_count": 31,
     "metadata": {},
     "output_type": "execute_result"
    }
   ],
   "source": [
    "predict(model, \"Heute ist leider schlechtes Wetter.\")"
   ]
  },
  {
   "cell_type": "code",
   "execution_count": 32,
   "metadata": {},
   "outputs": [
    {
     "data": {
      "text/plain": [
       "array([0.97030556], dtype=float32)"
      ]
     },
     "execution_count": 32,
     "metadata": {},
     "output_type": "execute_result"
    }
   ],
   "source": [
    "predict(rnn_model, \"Blondine\")"
   ]
  },
  {
   "cell_type": "code",
   "execution_count": 33,
   "metadata": {},
   "outputs": [
    {
     "data": {
      "text/plain": [
       "array([0.0773247], dtype=float32)"
      ]
     },
     "execution_count": 33,
     "metadata": {},
     "output_type": "execute_result"
    }
   ],
   "source": [
    "predict(rnn_model, \"Heute ist leider schlechtes Wetter.\")"
   ]
  },
  {
   "cell_type": "markdown",
   "metadata": {},
   "source": [
    "## Save the model"
   ]
  },
  {
   "cell_type": "code",
   "execution_count": 34,
   "metadata": {},
   "outputs": [],
   "source": [
    "model.save(\"/home/martin/PycharmProjects/no_joke/model.h5\")"
   ]
  },
  {
   "cell_type": "code",
   "execution_count": 35,
   "metadata": {},
   "outputs": [],
   "source": [
    "rnn_model.save(\"/home/martin/PycharmProjects/no_joke/rnnmodel.h5\")"
   ]
  }
 ],
 "metadata": {
  "kernelspec": {
   "display_name": "no_joke_env",
   "language": "python",
   "name": "no_joke_env"
  },
  "language_info": {
   "codemirror_mode": {
    "name": "ipython",
    "version": 3
   },
   "file_extension": ".py",
   "mimetype": "text/x-python",
   "name": "python",
   "nbconvert_exporter": "python",
   "pygments_lexer": "ipython3",
   "version": "3.7.6"
  }
 },
 "nbformat": 4,
 "nbformat_minor": 1
}
